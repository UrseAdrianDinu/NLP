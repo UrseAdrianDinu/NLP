{
 "cells": [
  {
   "cell_type": "code",
   "execution_count": 1,
   "id": "b602ec19",
   "metadata": {
    "execution": {
     "iopub.execute_input": "2024-04-22T12:01:47.120381Z",
     "iopub.status.busy": "2024-04-22T12:01:47.119900Z",
     "iopub.status.idle": "2024-04-22T12:01:51.276318Z",
     "shell.execute_reply": "2024-04-22T12:01:51.275040Z"
    },
    "id": "nYGe-DEXeWMq",
    "outputId": "4a9744e0-8e55-4e50-eb7d-7502f39a6953",
    "papermill": {
     "duration": 4.172433,
     "end_time": "2024-04-22T12:01:51.279247",
     "exception": false,
     "start_time": "2024-04-22T12:01:47.106814",
     "status": "completed"
    },
    "tags": []
   },
   "outputs": [
    {
     "name": "stderr",
     "output_type": "stream",
     "text": [
      "[nltk_data] Downloading package stopwords to /home/alex/nltk_data...\n",
      "[nltk_data]   Package stopwords is already up-to-date!\n"
     ]
    }
   ],
   "source": [
    "from nltk.util import pr\n",
    "import pandas as pd\n",
    "import numpy as np\n",
    "import seaborn as sns\n",
    "import matplotlib.pyplot as plt\n",
    "# from sklearn.feature_extraction.text import CountVectorizer\n",
    "# from sklearn.model_selection import train_test_split\n",
    "# from sklearn.model_selection import cross_val_score\n",
    "# from sklearn.tree import DecisionTreeClassifier\n",
    "# from sklearn.metrics import accuracy_score, classification_report, confusion_matrix, ConfusionMatrixDisplay\n",
    "import re\n",
    "import nltk\n",
    "stemmer = nltk.SnowballStemmer(\"english\")\n",
    "from nltk.corpus import stopwords\n",
    "import string\n",
    "nltk.download('stopwords')\n",
    "stopword=set(stopwords.words('english'))"
   ]
  },
  {
   "cell_type": "code",
   "execution_count": 2,
   "id": "37646e59",
   "metadata": {
    "execution": {
     "iopub.execute_input": "2024-04-22T12:01:51.302349Z",
     "iopub.status.busy": "2024-04-22T12:01:51.301792Z",
     "iopub.status.idle": "2024-04-22T12:01:51.420092Z",
     "shell.execute_reply": "2024-04-22T12:01:51.418930Z"
    },
    "id": "Z80mij3xelya",
    "papermill": {
     "duration": 0.133079,
     "end_time": "2024-04-22T12:01:51.423171",
     "exception": false,
     "start_time": "2024-04-22T12:01:51.290092",
     "status": "completed"
    },
    "tags": []
   },
   "outputs": [],
   "source": [
    "data = pd.read_csv(\"./dataset/labeled_data.csv\")"
   ]
  },
  {
   "cell_type": "code",
   "execution_count": 3,
   "id": "717e5709",
   "metadata": {
    "execution": {
     "iopub.execute_input": "2024-04-22T12:01:51.445916Z",
     "iopub.status.busy": "2024-04-22T12:01:51.445531Z",
     "iopub.status.idle": "2024-04-22T12:01:51.450961Z",
     "shell.execute_reply": "2024-04-22T12:01:51.449849Z"
    },
    "id": "fFcV7zfAfJGS",
    "papermill": {
     "duration": 0.0198,
     "end_time": "2024-04-22T12:01:51.453490",
     "exception": false,
     "start_time": "2024-04-22T12:01:51.433690",
     "status": "completed"
    },
    "tags": []
   },
   "outputs": [],
   "source": [
    "pd.set_option('display.max_colwidth', None)\n",
    "data = data.rename(columns={'Unnamed: 0': 'idx'})"
   ]
  },
  {
   "cell_type": "code",
   "execution_count": 4,
   "id": "fea9004e",
   "metadata": {
    "execution": {
     "iopub.execute_input": "2024-04-22T12:01:51.477268Z",
     "iopub.status.busy": "2024-04-22T12:01:51.476041Z",
     "iopub.status.idle": "2024-04-22T12:01:51.502645Z",
     "shell.execute_reply": "2024-04-22T12:01:51.501210Z"
    },
    "id": "amwB3y0mezZw",
    "outputId": "1b20e60e-f60c-47aa-ad77-cdbd9d331bd3",
    "papermill": {
     "duration": 0.041572,
     "end_time": "2024-04-22T12:01:51.505583",
     "exception": false,
     "start_time": "2024-04-22T12:01:51.464011",
     "status": "completed"
    },
    "tags": []
   },
   "outputs": [
    {
     "data": {
      "text/html": [
       "<div>\n",
       "<style scoped>\n",
       "    .dataframe tbody tr th:only-of-type {\n",
       "        vertical-align: middle;\n",
       "    }\n",
       "\n",
       "    .dataframe tbody tr th {\n",
       "        vertical-align: top;\n",
       "    }\n",
       "\n",
       "    .dataframe thead th {\n",
       "        text-align: right;\n",
       "    }\n",
       "</style>\n",
       "<table border=\"1\" class=\"dataframe\">\n",
       "  <thead>\n",
       "    <tr style=\"text-align: right;\">\n",
       "      <th></th>\n",
       "      <th>idx</th>\n",
       "      <th>count</th>\n",
       "      <th>hate_speech</th>\n",
       "      <th>offensive_language</th>\n",
       "      <th>neither</th>\n",
       "      <th>class</th>\n",
       "      <th>tweet</th>\n",
       "    </tr>\n",
       "  </thead>\n",
       "  <tbody>\n",
       "    <tr>\n",
       "      <th>0</th>\n",
       "      <td>0</td>\n",
       "      <td>3</td>\n",
       "      <td>0</td>\n",
       "      <td>0</td>\n",
       "      <td>3</td>\n",
       "      <td>2</td>\n",
       "      <td>!!! RT @mayasolovely: As a woman you shouldn't complain about cleaning up your house. &amp;amp; as a man you should always take the trash out...</td>\n",
       "    </tr>\n",
       "    <tr>\n",
       "      <th>1</th>\n",
       "      <td>1</td>\n",
       "      <td>3</td>\n",
       "      <td>0</td>\n",
       "      <td>3</td>\n",
       "      <td>0</td>\n",
       "      <td>1</td>\n",
       "      <td>!!!!! RT @mleew17: boy dats cold...tyga dwn bad for cuffin dat hoe in the 1st place!!</td>\n",
       "    </tr>\n",
       "    <tr>\n",
       "      <th>2</th>\n",
       "      <td>2</td>\n",
       "      <td>3</td>\n",
       "      <td>0</td>\n",
       "      <td>3</td>\n",
       "      <td>0</td>\n",
       "      <td>1</td>\n",
       "      <td>!!!!!!! RT @UrKindOfBrand Dawg!!!! RT @80sbaby4life: You ever fuck a bitch and she start to cry? You be confused as shit</td>\n",
       "    </tr>\n",
       "    <tr>\n",
       "      <th>3</th>\n",
       "      <td>3</td>\n",
       "      <td>3</td>\n",
       "      <td>0</td>\n",
       "      <td>2</td>\n",
       "      <td>1</td>\n",
       "      <td>1</td>\n",
       "      <td>!!!!!!!!! RT @C_G_Anderson: @viva_based she look like a tranny</td>\n",
       "    </tr>\n",
       "    <tr>\n",
       "      <th>4</th>\n",
       "      <td>4</td>\n",
       "      <td>6</td>\n",
       "      <td>0</td>\n",
       "      <td>6</td>\n",
       "      <td>0</td>\n",
       "      <td>1</td>\n",
       "      <td>!!!!!!!!!!!!! RT @ShenikaRoberts: The shit you hear about me might be true or it might be faker than the bitch who told it to ya &amp;#57361;</td>\n",
       "    </tr>\n",
       "  </tbody>\n",
       "</table>\n",
       "</div>"
      ],
      "text/plain": [
       "   idx  count  hate_speech  offensive_language  neither  class  \\\n",
       "0    0      3            0                   0        3      2   \n",
       "1    1      3            0                   3        0      1   \n",
       "2    2      3            0                   3        0      1   \n",
       "3    3      3            0                   2        1      1   \n",
       "4    4      6            0                   6        0      1   \n",
       "\n",
       "                                                                                                                                          tweet  \n",
       "0  !!! RT @mayasolovely: As a woman you shouldn't complain about cleaning up your house. &amp; as a man you should always take the trash out...  \n",
       "1                                                         !!!!! RT @mleew17: boy dats cold...tyga dwn bad for cuffin dat hoe in the 1st place!!  \n",
       "2                      !!!!!!! RT @UrKindOfBrand Dawg!!!! RT @80sbaby4life: You ever fuck a bitch and she start to cry? You be confused as shit  \n",
       "3                                                                                !!!!!!!!! RT @C_G_Anderson: @viva_based she look like a tranny  \n",
       "4     !!!!!!!!!!!!! RT @ShenikaRoberts: The shit you hear about me might be true or it might be faker than the bitch who told it to ya &#57361;  "
      ]
     },
     "execution_count": 4,
     "metadata": {},
     "output_type": "execute_result"
    }
   ],
   "source": [
    "data.head()"
   ]
  },
  {
   "cell_type": "markdown",
   "id": "42e0e4c5",
   "metadata": {
    "id": "bICpGzS1lP7g",
    "papermill": {
     "duration": 0.01066,
     "end_time": "2024-04-22T12:01:51.527277",
     "exception": false,
     "start_time": "2024-04-22T12:01:51.516617",
     "status": "completed"
    },
    "tags": []
   },
   "source": [
    "## data preproccessing\n"
   ]
  },
  {
   "cell_type": "code",
   "execution_count": 5,
   "id": "534a41d8",
   "metadata": {
    "execution": {
     "iopub.execute_input": "2024-04-22T12:01:51.551616Z",
     "iopub.status.busy": "2024-04-22T12:01:51.551208Z",
     "iopub.status.idle": "2024-04-22T12:01:51.572743Z",
     "shell.execute_reply": "2024-04-22T12:01:51.571587Z"
    },
    "id": "PsyOT6Z7fE6C",
    "outputId": "24c9bef9-7653-4a83-81d1-879e34688fce",
    "papermill": {
     "duration": 0.037329,
     "end_time": "2024-04-22T12:01:51.575358",
     "exception": false,
     "start_time": "2024-04-22T12:01:51.538029",
     "status": "completed"
    },
    "tags": []
   },
   "outputs": [
    {
     "data": {
      "text/html": [
       "<div>\n",
       "<style scoped>\n",
       "    .dataframe tbody tr th:only-of-type {\n",
       "        vertical-align: middle;\n",
       "    }\n",
       "\n",
       "    .dataframe tbody tr th {\n",
       "        vertical-align: top;\n",
       "    }\n",
       "\n",
       "    .dataframe thead th {\n",
       "        text-align: right;\n",
       "    }\n",
       "</style>\n",
       "<table border=\"1\" class=\"dataframe\">\n",
       "  <thead>\n",
       "    <tr style=\"text-align: right;\">\n",
       "      <th></th>\n",
       "      <th>tweet</th>\n",
       "    </tr>\n",
       "  </thead>\n",
       "  <tbody>\n",
       "    <tr>\n",
       "      <th>0</th>\n",
       "      <td>!!! RT @mayasolovely: As a woman you shouldn't complain about cleaning up your house. &amp;amp; as a man you should always take the trash out...</td>\n",
       "    </tr>\n",
       "    <tr>\n",
       "      <th>1</th>\n",
       "      <td>!!!!! RT @mleew17: boy dats cold...tyga dwn bad for cuffin dat hoe in the 1st place!!</td>\n",
       "    </tr>\n",
       "    <tr>\n",
       "      <th>2</th>\n",
       "      <td>!!!!!!! RT @UrKindOfBrand Dawg!!!! RT @80sbaby4life: You ever fuck a bitch and she start to cry? You be confused as shit</td>\n",
       "    </tr>\n",
       "    <tr>\n",
       "      <th>3</th>\n",
       "      <td>!!!!!!!!! RT @C_G_Anderson: @viva_based she look like a tranny</td>\n",
       "    </tr>\n",
       "    <tr>\n",
       "      <th>4</th>\n",
       "      <td>!!!!!!!!!!!!! RT @ShenikaRoberts: The shit you hear about me might be true or it might be faker than the bitch who told it to ya &amp;#57361;</td>\n",
       "    </tr>\n",
       "    <tr>\n",
       "      <th>...</th>\n",
       "      <td>...</td>\n",
       "    </tr>\n",
       "    <tr>\n",
       "      <th>24778</th>\n",
       "      <td>you's a muthaf***in lie &amp;#8220;@LifeAsKing: @20_Pearls @corey_emanuel right! His TL is trash &amp;#8230;. Now, mine? Bible scriptures and hymns&amp;#8221;</td>\n",
       "    </tr>\n",
       "    <tr>\n",
       "      <th>24779</th>\n",
       "      <td>you've gone and broke the wrong heart baby, and drove me redneck crazy</td>\n",
       "    </tr>\n",
       "    <tr>\n",
       "      <th>24780</th>\n",
       "      <td>young buck wanna eat!!.. dat nigguh like I aint fuckin dis up again</td>\n",
       "    </tr>\n",
       "    <tr>\n",
       "      <th>24781</th>\n",
       "      <td>youu got wild bitches tellin you lies</td>\n",
       "    </tr>\n",
       "    <tr>\n",
       "      <th>24782</th>\n",
       "      <td>~~Ruffled | Ntac Eileen Dahlia - Beautiful color combination of pink, orange, yellow &amp;amp; white. A Coll http://t.co/H0dYEBvnZB</td>\n",
       "    </tr>\n",
       "  </tbody>\n",
       "</table>\n",
       "<p>24783 rows × 1 columns</p>\n",
       "</div>"
      ],
      "text/plain": [
       "                                                                                                                                                    tweet\n",
       "0            !!! RT @mayasolovely: As a woman you shouldn't complain about cleaning up your house. &amp; as a man you should always take the trash out...\n",
       "1                                                                   !!!!! RT @mleew17: boy dats cold...tyga dwn bad for cuffin dat hoe in the 1st place!!\n",
       "2                                !!!!!!! RT @UrKindOfBrand Dawg!!!! RT @80sbaby4life: You ever fuck a bitch and she start to cry? You be confused as shit\n",
       "3                                                                                          !!!!!!!!! RT @C_G_Anderson: @viva_based she look like a tranny\n",
       "4               !!!!!!!!!!!!! RT @ShenikaRoberts: The shit you hear about me might be true or it might be faker than the bitch who told it to ya &#57361;\n",
       "...                                                                                                                                                   ...\n",
       "24778  you's a muthaf***in lie &#8220;@LifeAsKing: @20_Pearls @corey_emanuel right! His TL is trash &#8230;. Now, mine? Bible scriptures and hymns&#8221;\n",
       "24779                                                                              you've gone and broke the wrong heart baby, and drove me redneck crazy\n",
       "24780                                                                                 young buck wanna eat!!.. dat nigguh like I aint fuckin dis up again\n",
       "24781                                                                                                               youu got wild bitches tellin you lies\n",
       "24782                     ~~Ruffled | Ntac Eileen Dahlia - Beautiful color combination of pink, orange, yellow &amp; white. A Coll http://t.co/H0dYEBvnZB\n",
       "\n",
       "[24783 rows x 1 columns]"
      ]
     },
     "execution_count": 5,
     "metadata": {},
     "output_type": "execute_result"
    }
   ],
   "source": [
    "tweets = data[[\"tweet\"]]\n",
    "tweets"
   ]
  },
  {
   "cell_type": "code",
   "execution_count": 6,
   "id": "9d3dd8c9",
   "metadata": {
    "execution": {
     "iopub.execute_input": "2024-04-22T12:01:51.644765Z",
     "iopub.status.busy": "2024-04-22T12:01:51.644347Z",
     "iopub.status.idle": "2024-04-22T12:01:51.651538Z",
     "shell.execute_reply": "2024-04-22T12:01:51.650445Z"
    },
    "id": "3P4vQ1PSlrpu",
    "papermill": {
     "duration": 0.022631,
     "end_time": "2024-04-22T12:01:51.653940",
     "exception": false,
     "start_time": "2024-04-22T12:01:51.631309",
     "status": "completed"
    },
    "tags": []
   },
   "outputs": [],
   "source": [
    "def clean(text):\n",
    "    text = str(text).lower()\n",
    "    text = re.sub('', '', text)\n",
    "    text = re.sub('https?://\\S+|www\\.\\S+', '', text)\n",
    "    text = re.sub('<.*?>+', '', text)\n",
    "    text = re.sub('[%s]' % re.escape(string.punctuation), '', text)\n",
    "    text = re.sub('\\n', '', text)\n",
    "    text = re.sub('\\w*\\d\\w*', '', text)\n",
    "    return text"
   ]
  },
  {
   "cell_type": "code",
   "execution_count": 7,
   "id": "bc4cc425",
   "metadata": {
    "execution": {
     "iopub.execute_input": "2024-04-22T12:01:51.678263Z",
     "iopub.status.busy": "2024-04-22T12:01:51.677836Z",
     "iopub.status.idle": "2024-04-22T12:01:53.125520Z",
     "shell.execute_reply": "2024-04-22T12:01:53.124423Z"
    },
    "id": "mETcTxykrltQ",
    "papermill": {
     "duration": 1.464081,
     "end_time": "2024-04-22T12:01:53.129323",
     "exception": false,
     "start_time": "2024-04-22T12:01:51.665242",
     "status": "completed"
    },
    "tags": []
   },
   "outputs": [],
   "source": [
    "data[\"tweet\"] = data['tweet'].apply(clean)"
   ]
  },
  {
   "cell_type": "code",
   "execution_count": 8,
   "id": "0f2df25e",
   "metadata": {
    "execution": {
     "iopub.execute_input": "2024-04-22T12:01:53.192041Z",
     "iopub.status.busy": "2024-04-22T12:01:53.191614Z",
     "iopub.status.idle": "2024-04-22T12:01:53.200291Z",
     "shell.execute_reply": "2024-04-22T12:01:53.199013Z"
    },
    "id": "nVblaR2psiju",
    "papermill": {
     "duration": 0.028779,
     "end_time": "2024-04-22T12:01:53.202841",
     "exception": false,
     "start_time": "2024-04-22T12:01:53.174062",
     "status": "completed"
    },
    "tags": []
   },
   "outputs": [],
   "source": [
    "def preprocessing (text):\n",
    "    text = [word for word in text.split() if word not in stopword]\n",
    "    text = \" \".join(text)\n",
    "    text = [stemmer.stem(word) for word in text.split()]\n",
    "    text = \" \".join(text)\n",
    "    return text\n"
   ]
  },
  {
   "cell_type": "code",
   "execution_count": 9,
   "id": "bb22c41f",
   "metadata": {
    "execution": {
     "iopub.execute_input": "2024-04-22T12:01:53.226988Z",
     "iopub.status.busy": "2024-04-22T12:01:53.226225Z",
     "iopub.status.idle": "2024-04-22T12:01:54.544419Z",
     "shell.execute_reply": "2024-04-22T12:01:54.542960Z"
    },
    "id": "6wpiyyzwvzTO",
    "papermill": {
     "duration": 1.333646,
     "end_time": "2024-04-22T12:01:54.547571",
     "exception": false,
     "start_time": "2024-04-22T12:01:53.213925",
     "status": "completed"
    },
    "tags": []
   },
   "outputs": [],
   "source": [
    "data[\"tweet\"] = data['tweet'].apply(clean)"
   ]
  },
  {
   "cell_type": "code",
   "execution_count": 10,
   "id": "5c2812dd",
   "metadata": {
    "execution": {
     "iopub.execute_input": "2024-04-22T12:01:54.571820Z",
     "iopub.status.busy": "2024-04-22T12:01:54.571412Z",
     "iopub.status.idle": "2024-04-22T12:01:54.585666Z",
     "shell.execute_reply": "2024-04-22T12:01:54.584451Z"
    },
    "id": "0lX5OOtlv0Jx",
    "outputId": "588802a4-5147-447e-cbf8-970d6dc1fde5",
    "papermill": {
     "duration": 0.029038,
     "end_time": "2024-04-22T12:01:54.588181",
     "exception": false,
     "start_time": "2024-04-22T12:01:54.559143",
     "status": "completed"
    },
    "tags": []
   },
   "outputs": [
    {
     "data": {
      "text/html": [
       "<div>\n",
       "<style scoped>\n",
       "    .dataframe tbody tr th:only-of-type {\n",
       "        vertical-align: middle;\n",
       "    }\n",
       "\n",
       "    .dataframe tbody tr th {\n",
       "        vertical-align: top;\n",
       "    }\n",
       "\n",
       "    .dataframe thead th {\n",
       "        text-align: right;\n",
       "    }\n",
       "</style>\n",
       "<table border=\"1\" class=\"dataframe\">\n",
       "  <thead>\n",
       "    <tr style=\"text-align: right;\">\n",
       "      <th></th>\n",
       "      <th>idx</th>\n",
       "      <th>count</th>\n",
       "      <th>hate_speech</th>\n",
       "      <th>offensive_language</th>\n",
       "      <th>neither</th>\n",
       "      <th>class</th>\n",
       "      <th>tweet</th>\n",
       "    </tr>\n",
       "  </thead>\n",
       "  <tbody>\n",
       "    <tr>\n",
       "      <th>0</th>\n",
       "      <td>0</td>\n",
       "      <td>3</td>\n",
       "      <td>0</td>\n",
       "      <td>0</td>\n",
       "      <td>3</td>\n",
       "      <td>2</td>\n",
       "      <td>rt mayasolovely as a woman you shouldnt complain about cleaning up your house amp as a man you should always take the trash out</td>\n",
       "    </tr>\n",
       "    <tr>\n",
       "      <th>1</th>\n",
       "      <td>1</td>\n",
       "      <td>3</td>\n",
       "      <td>0</td>\n",
       "      <td>3</td>\n",
       "      <td>0</td>\n",
       "      <td>1</td>\n",
       "      <td>rt  boy dats coldtyga dwn bad for cuffin dat hoe in the  place</td>\n",
       "    </tr>\n",
       "    <tr>\n",
       "      <th>2</th>\n",
       "      <td>2</td>\n",
       "      <td>3</td>\n",
       "      <td>0</td>\n",
       "      <td>3</td>\n",
       "      <td>0</td>\n",
       "      <td>1</td>\n",
       "      <td>rt urkindofbrand dawg rt  you ever fuck a bitch and she start to cry you be confused as shit</td>\n",
       "    </tr>\n",
       "    <tr>\n",
       "      <th>3</th>\n",
       "      <td>3</td>\n",
       "      <td>3</td>\n",
       "      <td>0</td>\n",
       "      <td>2</td>\n",
       "      <td>1</td>\n",
       "      <td>1</td>\n",
       "      <td>rt cganderson vivabased she look like a tranny</td>\n",
       "    </tr>\n",
       "    <tr>\n",
       "      <th>4</th>\n",
       "      <td>4</td>\n",
       "      <td>6</td>\n",
       "      <td>0</td>\n",
       "      <td>6</td>\n",
       "      <td>0</td>\n",
       "      <td>1</td>\n",
       "      <td>rt shenikaroberts the shit you hear about me might be true or it might be faker than the bitch who told it to ya</td>\n",
       "    </tr>\n",
       "  </tbody>\n",
       "</table>\n",
       "</div>"
      ],
      "text/plain": [
       "   idx  count  hate_speech  offensive_language  neither  class  \\\n",
       "0    0      3            0                   0        3      2   \n",
       "1    1      3            0                   3        0      1   \n",
       "2    2      3            0                   3        0      1   \n",
       "3    3      3            0                   2        1      1   \n",
       "4    4      6            0                   6        0      1   \n",
       "\n",
       "                                                                                                                              tweet  \n",
       "0   rt mayasolovely as a woman you shouldnt complain about cleaning up your house amp as a man you should always take the trash out  \n",
       "1                                                                    rt  boy dats coldtyga dwn bad for cuffin dat hoe in the  place  \n",
       "2                                      rt urkindofbrand dawg rt  you ever fuck a bitch and she start to cry you be confused as shit  \n",
       "3                                                                                    rt cganderson vivabased she look like a tranny  \n",
       "4                 rt shenikaroberts the shit you hear about me might be true or it might be faker than the bitch who told it to ya   "
      ]
     },
     "execution_count": 10,
     "metadata": {},
     "output_type": "execute_result"
    }
   ],
   "source": [
    "data.head()"
   ]
  },
  {
   "cell_type": "code",
   "execution_count": 11,
   "id": "e7ca0c7a",
   "metadata": {
    "execution": {
     "iopub.execute_input": "2024-04-22T12:01:54.704866Z",
     "iopub.status.busy": "2024-04-22T12:01:54.703617Z",
     "iopub.status.idle": "2024-04-22T12:01:54.722264Z",
     "shell.execute_reply": "2024-04-22T12:01:54.721113Z"
    },
    "id": "7cJ87K_qmP2-",
    "outputId": "2c67f40d-e87a-4412-d7e2-0567b201e421",
    "papermill": {
     "duration": 0.033876,
     "end_time": "2024-04-22T12:01:54.724888",
     "exception": false,
     "start_time": "2024-04-22T12:01:54.691012",
     "status": "completed"
    },
    "tags": []
   },
   "outputs": [
    {
     "data": {
      "text/html": [
       "<div>\n",
       "<style scoped>\n",
       "    .dataframe tbody tr th:only-of-type {\n",
       "        vertical-align: middle;\n",
       "    }\n",
       "\n",
       "    .dataframe tbody tr th {\n",
       "        vertical-align: top;\n",
       "    }\n",
       "\n",
       "    .dataframe thead th {\n",
       "        text-align: right;\n",
       "    }\n",
       "</style>\n",
       "<table border=\"1\" class=\"dataframe\">\n",
       "  <thead>\n",
       "    <tr style=\"text-align: right;\">\n",
       "      <th></th>\n",
       "      <th>idx</th>\n",
       "      <th>count</th>\n",
       "      <th>hate_speech</th>\n",
       "      <th>offensive_language</th>\n",
       "      <th>neither</th>\n",
       "      <th>class</th>\n",
       "      <th>tweet</th>\n",
       "    </tr>\n",
       "  </thead>\n",
       "  <tbody>\n",
       "    <tr>\n",
       "      <th>0</th>\n",
       "      <td>0</td>\n",
       "      <td>3</td>\n",
       "      <td>0</td>\n",
       "      <td>0</td>\n",
       "      <td>3</td>\n",
       "      <td>0</td>\n",
       "      <td>rt mayasolovely as a woman you shouldnt complain about cleaning up your house amp as a man you should always take the trash out</td>\n",
       "    </tr>\n",
       "    <tr>\n",
       "      <th>1</th>\n",
       "      <td>1</td>\n",
       "      <td>3</td>\n",
       "      <td>0</td>\n",
       "      <td>3</td>\n",
       "      <td>0</td>\n",
       "      <td>1</td>\n",
       "      <td>rt  boy dats coldtyga dwn bad for cuffin dat hoe in the  place</td>\n",
       "    </tr>\n",
       "    <tr>\n",
       "      <th>2</th>\n",
       "      <td>2</td>\n",
       "      <td>3</td>\n",
       "      <td>0</td>\n",
       "      <td>3</td>\n",
       "      <td>0</td>\n",
       "      <td>1</td>\n",
       "      <td>rt urkindofbrand dawg rt  you ever fuck a bitch and she start to cry you be confused as shit</td>\n",
       "    </tr>\n",
       "    <tr>\n",
       "      <th>3</th>\n",
       "      <td>3</td>\n",
       "      <td>3</td>\n",
       "      <td>0</td>\n",
       "      <td>2</td>\n",
       "      <td>1</td>\n",
       "      <td>1</td>\n",
       "      <td>rt cganderson vivabased she look like a tranny</td>\n",
       "    </tr>\n",
       "    <tr>\n",
       "      <th>4</th>\n",
       "      <td>4</td>\n",
       "      <td>6</td>\n",
       "      <td>0</td>\n",
       "      <td>6</td>\n",
       "      <td>0</td>\n",
       "      <td>1</td>\n",
       "      <td>rt shenikaroberts the shit you hear about me might be true or it might be faker than the bitch who told it to ya</td>\n",
       "    </tr>\n",
       "  </tbody>\n",
       "</table>\n",
       "</div>"
      ],
      "text/plain": [
       "   idx  count  hate_speech  offensive_language  neither  class  \\\n",
       "0    0      3            0                   0        3      0   \n",
       "1    1      3            0                   3        0      1   \n",
       "2    2      3            0                   3        0      1   \n",
       "3    3      3            0                   2        1      1   \n",
       "4    4      6            0                   6        0      1   \n",
       "\n",
       "                                                                                                                              tweet  \n",
       "0   rt mayasolovely as a woman you shouldnt complain about cleaning up your house amp as a man you should always take the trash out  \n",
       "1                                                                    rt  boy dats coldtyga dwn bad for cuffin dat hoe in the  place  \n",
       "2                                      rt urkindofbrand dawg rt  you ever fuck a bitch and she start to cry you be confused as shit  \n",
       "3                                                                                    rt cganderson vivabased she look like a tranny  \n",
       "4                 rt shenikaroberts the shit you hear about me might be true or it might be faker than the bitch who told it to ya   "
      ]
     },
     "execution_count": 11,
     "metadata": {},
     "output_type": "execute_result"
    }
   ],
   "source": [
    "class_new = data[\"class\"].map({0:1,1:1,2:0})\n",
    "data[\"class\"] = class_new\n",
    "data.head()"
   ]
  },
  {
   "cell_type": "code",
   "execution_count": 12,
   "id": "69ba4449",
   "metadata": {
    "execution": {
     "iopub.execute_input": "2024-04-22T12:01:54.772999Z",
     "iopub.status.busy": "2024-04-22T12:01:54.772072Z",
     "iopub.status.idle": "2024-04-22T12:01:54.779999Z",
     "shell.execute_reply": "2024-04-22T12:01:54.778570Z"
    },
    "id": "VBDcdh3hnRM1",
    "papermill": {
     "duration": 0.0236,
     "end_time": "2024-04-22T12:01:54.782783",
     "exception": false,
     "start_time": "2024-04-22T12:01:54.759183",
     "status": "completed"
    },
    "tags": []
   },
   "outputs": [],
   "source": [
    "categories = {2:\"robot hate-speech\", 1:\"human hate-speech\",0:\"another\",}\n",
    "value = data['class'].map(categories)"
   ]
  },
  {
   "cell_type": "code",
   "execution_count": 13,
   "id": "468edec1",
   "metadata": {
    "execution": {
     "iopub.execute_input": "2024-04-22T12:01:54.807456Z",
     "iopub.status.busy": "2024-04-22T12:01:54.807030Z",
     "iopub.status.idle": "2024-04-22T12:01:54.813601Z",
     "shell.execute_reply": "2024-04-22T12:01:54.812430Z"
    },
    "id": "8AyipJa8nsL0",
    "papermill": {
     "duration": 0.021773,
     "end_time": "2024-04-22T12:01:54.816069",
     "exception": false,
     "start_time": "2024-04-22T12:01:54.794296",
     "status": "completed"
    },
    "tags": []
   },
   "outputs": [],
   "source": [
    "index = data.columns.get_loc(\"tweet\")\n",
    "data.insert(index,\"value\",value)"
   ]
  },
  {
   "cell_type": "code",
   "execution_count": 14,
   "id": "c5a72649",
   "metadata": {},
   "outputs": [],
   "source": [
    "data = data.drop(['count', 'hate_speech', 'offensive_language', 'neither'], axis=1)"
   ]
  },
  {
   "cell_type": "code",
   "execution_count": 15,
   "id": "9c0f124e",
   "metadata": {
    "execution": {
     "iopub.execute_input": "2024-04-22T12:01:54.840906Z",
     "iopub.status.busy": "2024-04-22T12:01:54.840495Z",
     "iopub.status.idle": "2024-04-22T12:01:54.855038Z",
     "shell.execute_reply": "2024-04-22T12:01:54.853840Z"
    },
    "id": "fj-T1OBjpw5X",
    "outputId": "8cc9f2ae-8903-4a46-dc02-44c6b299f7f4",
    "papermill": {
     "duration": 0.029932,
     "end_time": "2024-04-22T12:01:54.857648",
     "exception": false,
     "start_time": "2024-04-22T12:01:54.827716",
     "status": "completed"
    },
    "tags": []
   },
   "outputs": [
    {
     "data": {
      "text/html": [
       "<div>\n",
       "<style scoped>\n",
       "    .dataframe tbody tr th:only-of-type {\n",
       "        vertical-align: middle;\n",
       "    }\n",
       "\n",
       "    .dataframe tbody tr th {\n",
       "        vertical-align: top;\n",
       "    }\n",
       "\n",
       "    .dataframe thead th {\n",
       "        text-align: right;\n",
       "    }\n",
       "</style>\n",
       "<table border=\"1\" class=\"dataframe\">\n",
       "  <thead>\n",
       "    <tr style=\"text-align: right;\">\n",
       "      <th></th>\n",
       "      <th>idx</th>\n",
       "      <th>class</th>\n",
       "      <th>value</th>\n",
       "      <th>tweet</th>\n",
       "    </tr>\n",
       "  </thead>\n",
       "  <tbody>\n",
       "    <tr>\n",
       "      <th>0</th>\n",
       "      <td>0</td>\n",
       "      <td>0</td>\n",
       "      <td>another</td>\n",
       "      <td>rt mayasolovely as a woman you shouldnt complain about cleaning up your house amp as a man you should always take the trash out</td>\n",
       "    </tr>\n",
       "    <tr>\n",
       "      <th>1</th>\n",
       "      <td>1</td>\n",
       "      <td>1</td>\n",
       "      <td>human hate-speech</td>\n",
       "      <td>rt  boy dats coldtyga dwn bad for cuffin dat hoe in the  place</td>\n",
       "    </tr>\n",
       "    <tr>\n",
       "      <th>2</th>\n",
       "      <td>2</td>\n",
       "      <td>1</td>\n",
       "      <td>human hate-speech</td>\n",
       "      <td>rt urkindofbrand dawg rt  you ever fuck a bitch and she start to cry you be confused as shit</td>\n",
       "    </tr>\n",
       "    <tr>\n",
       "      <th>3</th>\n",
       "      <td>3</td>\n",
       "      <td>1</td>\n",
       "      <td>human hate-speech</td>\n",
       "      <td>rt cganderson vivabased she look like a tranny</td>\n",
       "    </tr>\n",
       "    <tr>\n",
       "      <th>4</th>\n",
       "      <td>4</td>\n",
       "      <td>1</td>\n",
       "      <td>human hate-speech</td>\n",
       "      <td>rt shenikaroberts the shit you hear about me might be true or it might be faker than the bitch who told it to ya</td>\n",
       "    </tr>\n",
       "  </tbody>\n",
       "</table>\n",
       "</div>"
      ],
      "text/plain": [
       "   idx  class              value  \\\n",
       "0    0      0            another   \n",
       "1    1      1  human hate-speech   \n",
       "2    2      1  human hate-speech   \n",
       "3    3      1  human hate-speech   \n",
       "4    4      1  human hate-speech   \n",
       "\n",
       "                                                                                                                              tweet  \n",
       "0   rt mayasolovely as a woman you shouldnt complain about cleaning up your house amp as a man you should always take the trash out  \n",
       "1                                                                    rt  boy dats coldtyga dwn bad for cuffin dat hoe in the  place  \n",
       "2                                      rt urkindofbrand dawg rt  you ever fuck a bitch and she start to cry you be confused as shit  \n",
       "3                                                                                    rt cganderson vivabased she look like a tranny  \n",
       "4                 rt shenikaroberts the shit you hear about me might be true or it might be faker than the bitch who told it to ya   "
      ]
     },
     "execution_count": 15,
     "metadata": {},
     "output_type": "execute_result"
    }
   ],
   "source": [
    "data.head()"
   ]
  },
  {
   "cell_type": "code",
   "execution_count": 16,
   "id": "72ab1f08",
   "metadata": {},
   "outputs": [
    {
     "name": "stdout",
     "output_type": "stream",
     "text": [
      "         idx  class              value  \\\n",
      "1          1      1  human hate-speech   \n",
      "2          2      1  human hate-speech   \n",
      "3          3      1  human hate-speech   \n",
      "4          4      1  human hate-speech   \n",
      "5          5      1  human hate-speech   \n",
      "...      ...    ...                ...   \n",
      "24776  25289      1  human hate-speech   \n",
      "24777  25290      1  human hate-speech   \n",
      "24778  25291      1  human hate-speech   \n",
      "24780  25294      1  human hate-speech   \n",
      "24781  25295      1  human hate-speech   \n",
      "\n",
      "                                                                                                                    tweet  \\\n",
      "1                                                          rt  boy dats coldtyga dwn bad for cuffin dat hoe in the  place   \n",
      "2                            rt urkindofbrand dawg rt  you ever fuck a bitch and she start to cry you be confused as shit   \n",
      "3                                                                          rt cganderson vivabased she look like a tranny   \n",
      "4       rt shenikaroberts the shit you hear about me might be true or it might be faker than the bitch who told it to ya    \n",
      "5                tmadisonx the shit just blows meclaim you so faithful and down for somebody but still fucking with hoes    \n",
      "...                                                                                                                   ...   \n",
      "24776                                                                                                   youre all niggers   \n",
      "24777              youre such a retard i hope you get type  diabetes and die from a sugar rush you fucking faggot dareilk   \n",
      "24778                            yous a muthafin lie   coreyemanuel right his tl is trash  now mine bible scriptures and    \n",
      "24780                                                     young buck wanna eat dat nigguh like i aint fuckin dis up again   \n",
      "24781                                                                               youu got wild bitches tellin you lies   \n",
      "\n",
      "                category  \n",
      "1      human hate-speech  \n",
      "2      human hate-speech  \n",
      "3      human hate-speech  \n",
      "4      human hate-speech  \n",
      "5      human hate-speech  \n",
      "...                  ...  \n",
      "24776  human hate-speech  \n",
      "24777  human hate-speech  \n",
      "24778  human hate-speech  \n",
      "24780  human hate-speech  \n",
      "24781  human hate-speech  \n",
      "\n",
      "[20620 rows x 5 columns]\n"
     ]
    },
    {
     "name": "stderr",
     "output_type": "stream",
     "text": [
      "/tmp/ipykernel_12506/720204218.py:4: SettingWithCopyWarning: \n",
      "A value is trying to be set on a copy of a slice from a DataFrame.\n",
      "Try using .loc[row_indexer,col_indexer] = value instead\n",
      "\n",
      "See the caveats in the documentation: https://pandas.pydata.org/pandas-docs/stable/user_guide/indexing.html#returning-a-view-versus-a-copy\n",
      "  filtered_data['category'] = filtered_data['class'].map(categories)\n"
     ]
    }
   ],
   "source": [
    "filtered_data = data[data['class'] == 1]\n",
    "\n",
    "# Map the 'class' values to their corresponding categories\n",
    "filtered_data['category'] = filtered_data['class'].map(categories)\n",
    "\n",
    "# Print the filtered data with the mapped categories\n",
    "print(filtered_data)"
   ]
  },
  {
   "cell_type": "code",
   "execution_count": 17,
   "id": "00290dc5",
   "metadata": {},
   "outputs": [],
   "source": [
    "file_path = 'hate_dataset.json'\n",
    "\n",
    "\n",
    "filtered_data.to_json(file_path, orient='records', indent=4)\n",
    "# # Write the optimal_values list to a JSON file\n",
    "# with open(file_path, 'w') as json_file:\n",
    "#     json.dump(optimal_values_list, json_file)\n",
    "\n",
    "# print(\"Optimal values saved to:\", file_path)"
   ]
  },
  {
   "cell_type": "code",
   "execution_count": 22,
   "id": "bd2adb60",
   "metadata": {},
   "outputs": [
    {
     "name": "stdout",
     "output_type": "stream",
     "text": [
      "CSV file generated: generated_data.csv\n"
     ]
    }
   ],
   "source": [
    "import csv\n",
    "csv_file = 'generated_data.csv'\n",
    "with open(csv_file, 'w', newline='', encoding='utf-8') as file:\n",
    "    writer = csv.writer(file)\n",
    "    writer.writerow([\"Tweet\", \"Model Output\"])  # Write header\n",
    "    for index, row in filtered_data.iterrows():\n",
    "        writer.writerow([row['tweet'], ''])\n",
    "\n",
    "print(f\"CSV file generated: {csv_file}\")"
   ]
  }
 ],
 "metadata": {
  "colab": {
   "provenance": []
  },
  "kaggle": {
   "accelerator": "none",
   "dataSources": [
    {
     "datasetId": 723100,
     "sourceId": 1257215,
     "sourceType": "datasetVersion"
    }
   ],
   "dockerImageVersionId": 30702,
   "isGpuEnabled": false,
   "isInternetEnabled": true,
   "language": "python",
   "sourceType": "notebook"
  },
  "kernelspec": {
   "display_name": "Python 3",
   "language": "python",
   "name": "python3"
  },
  "language_info": {
   "codemirror_mode": {
    "name": "ipython",
    "version": 3
   },
   "file_extension": ".py",
   "mimetype": "text/x-python",
   "name": "python",
   "nbconvert_exporter": "python",
   "pygments_lexer": "ipython3",
   "version": "3.10.12"
  },
  "papermill": {
   "default_parameters": {},
   "duration": 19.831891,
   "end_time": "2024-04-22T12:02:03.643959",
   "environment_variables": {},
   "exception": null,
   "input_path": "__notebook__.ipynb",
   "output_path": "__notebook__.ipynb",
   "parameters": {},
   "start_time": "2024-04-22T12:01:43.812068",
   "version": "2.5.0"
  }
 },
 "nbformat": 4,
 "nbformat_minor": 5
}
